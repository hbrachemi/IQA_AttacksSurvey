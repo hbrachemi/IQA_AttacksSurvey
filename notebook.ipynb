{
 "cells": [
  {
   "cell_type": "code",
   "execution_count": null,
   "id": "74a8bfe3",
   "metadata": {},
   "outputs": [],
   "source": [
    "#pip install pyiqa\n",
    "#pip install cleverhans"
   ]
  },
  {
   "cell_type": "code",
   "execution_count": null,
   "id": "9c7538b6",
   "metadata": {},
   "outputs": [],
   "source": [
    "from architectures import *\n",
    "from dataloader import iqa_dataset\n",
    "from config import *\n",
    "from torch.utils.data import DataLoader\n",
    "from torchvision import transforms"
   ]
  },
  {
   "cell_type": "code",
   "execution_count": null,
   "id": "47dbcfe6",
   "metadata": {},
   "outputs": [],
   "source": [
    "batch_size = 1\n",
    "\n",
    "train_data=iqa_dataset(part='train',labels_path='../Databases/liveInTheWild/scores.pickle' ,db_path='../Databases/liveInTheWild/Images/',\n",
    "                 ids_path='../Databases/liveInTheWild/IDs.pickle',\n",
    "                       transform=transforms.Compose([transforms.ToTensor()]))\n",
    "\n",
    "val_data = iqa_dataset(part='test',labels_path='../Databases/liveInTheWild/scores.pickle' ,db_path='../Databases/liveInTheWild/Images/',\n",
    "                 ids_path='../Databases/liveInTheWild/IDs.pickle',\n",
    "                       transform=transforms.Compose([transforms.ToTensor()]))\n",
    "\n",
    "print(f\"Length of Train Data : {len(train_data)}\")\n",
    "print(f\"Length of Validation Data : {len(val_data)}\")\n",
    "\n",
    "train_dl = DataLoader(train_data, batch_size, shuffle = True)\n",
    "val_dl = DataLoader(val_data,1)\n"
   ]
  },
  {
   "cell_type": "code",
   "execution_count": null,
   "id": "42b50992",
   "metadata": {},
   "outputs": [],
   "source": [
    "# Initialize the model for this run\n",
    "model =  initialize_model('resnet', False, use_pretrained=True)\n",
    "#model = FC(model,2,1024,0.25,'resnet')\n",
    "model.to(device)\n"
   ]
  },
  {
   "cell_type": "code",
   "execution_count": null,
<<<<<<< HEAD
   "id": "fde051d5",
=======
   "id": "374a955f",
>>>>>>> ebdce8ef1760308e9bdb928ac6c8b25b8f2f9a93
   "metadata": {},
   "outputs": [],
   "source": [
    "#Initialize the model to train on extracted features\n",
    "hidden_units = 1024\n",
    "fc_layers = 2\n",
    "dropOutRate = 0.25\n",
    "model = initialize_model('resnet', False, use_pretrained=True)\n",
    "#25088#\n",
    "num_ftrs = model.fc.in_features\n",
    "x=[torch.nn.Linear(num_ftrs,hidden_units)]\n",
    "for i in range(fc_layers):\n",
    "            x.append(torch.nn.Linear(hidden_units,hidden_units,bias=True))\n",
    "            x.append(torch.nn.ReLU(inplace=False))\n",
    "            x.append(torch.nn.Dropout(dropOutRate,inplace=False))\n",
    "x.append(torch.nn.Linear(hidden_units,1,bias=True))\n",
    "x.append(torch.nn.ReLU(inplace=False))\n",
    "x=torch.nn.Sequential(*x)\n"
   ]
  },
  {
   "cell_type": "code",
   "execution_count": null,
<<<<<<< HEAD
   "id": "8a6c8455",
=======
   "id": "6e875f37",
>>>>>>> ebdce8ef1760308e9bdb928ac6c8b25b8f2f9a93
   "metadata": {},
   "outputs": [],
   "source": [
    "x.load_state_dict(torch.load('../pretrainedModels/resnet50_livew.pth', map_location = device))"
   ]
  },
  {
   "cell_type": "code",
   "execution_count": null,
<<<<<<< HEAD
   "id": "95b7bc18",
=======
   "id": "b5ba3e77",
>>>>>>> ebdce8ef1760308e9bdb928ac6c8b25b8f2f9a93
   "metadata": {},
   "outputs": [],
   "source": [
    "model.fc=x"
   ]
  },
  {
   "cell_type": "code",
   "execution_count": null,
   "id": "bd929be7",
   "metadata": {},
   "outputs": [],
   "source": [
    "import pyiqa"
   ]
  },
  {
   "cell_type": "code",
   "execution_count": null,
   "id": "35826acc",
   "metadata": {},
   "outputs": [],
   "source": [
    "model = pyiqa.create_metric('dbcnn', device=torch.device('cpu'), as_loss=True)"
   ]
  },
  {
   "cell_type": "code",
   "execution_count": null,
   "id": "5730a4dc",
   "metadata": {},
   "outputs": [],
   "source": [
    "from cleverhans.torch.attacks.carlini_wagner_l2 import carlini_wagner_l2\n",
    "from cleverhans.torch.attacks.fast_gradient_method import fast_gradient_method\n",
    "from cleverhans.torch.attacks.projected_gradient_descent import projected_gradient_descent\n",
    "from cleverhans.torch.attacks.hop_skip_jump_attack import hop_skip_jump_attack\n",
    "from cleverhans.torch.attacks.sparse_l1_descent import sparse_l1_descent\n",
    "from cleverhans.torch.attacks.spsa import spsa\n",
    "\n",
    "from tqdm import tqdm\n",
    "import numpy as np"
   ]
  },
  {
   "cell_type": "code",
   "execution_count": null,
<<<<<<< HEAD
   "id": "505b9e55",
=======
   "id": "0e0d1505",
>>>>>>> ebdce8ef1760308e9bdb928ac6c8b25b8f2f9a93
   "metadata": {},
   "outputs": [],
   "source": [
    "model = model.eval()"
   ]
  },
  {
   "cell_type": "code",
   "execution_count": null,
   "id": "7b4f0b94",
   "metadata": {},
   "outputs": [],
   "source": [
    "#Tensorboard"
   ]
  },
  {
   "cell_type": "code",
   "execution_count": null,
<<<<<<< HEAD
   "id": "c3462c34",
=======
   "id": "d1b6ec91",
>>>>>>> ebdce8ef1760308e9bdb928ac6c8b25b8f2f9a93
   "metadata": {},
   "outputs": [],
   "source": [
    "from torch.utils.tensorboard import SummaryWriter\n",
    "writer = SummaryWriter()"
   ]
  },
  {
   "cell_type": "code",
   "execution_count": null,
<<<<<<< HEAD
   "id": "91b265f0",
=======
   "id": "839305e6",
>>>>>>> ebdce8ef1760308e9bdb928ac6c8b25b8f2f9a93
   "metadata": {},
   "outputs": [],
   "source": [
    "%reload_ext tensorboard"
   ]
  },
  {
   "cell_type": "code",
   "execution_count": null,
<<<<<<< HEAD
   "id": "6b51e7a8",
=======
   "id": "4d5303d6",
>>>>>>> ebdce8ef1760308e9bdb928ac6c8b25b8f2f9a93
   "metadata": {},
   "outputs": [],
   "source": [
    "LOG_DIR = 'runs/'\n",
    "\n",
    "get_ipython().system_raw(\n",
    "    'tensorboard --logdir {} --host localhost --port 8088 &'\n",
    "    .format(LOG_DIR)\n",
    ")"
   ]
  },
  {
   "cell_type": "code",
   "execution_count": null,
   "id": "39f8d6c0",
   "metadata": {},
   "outputs": [],
   "source": [
    "epsilon = 1\n",
    "iterations = 5\n",
    "noise_list = []\n",
    "x_adv_list = []\n",
    "attack = \"spsa\"\n",
    "\n",
    "for i ,[im, label] in enumerate(tqdm(val_dl)):\n",
    "    im = im.to(device)\n",
    "    if attack == \"fgsm\":\n",
    "        x_adv_list.append(fast_gradient_method(model,im, epsilon, np.inf))\n",
    "    if attack == \"pgd\":\n",
    "        x_adv_list.append(projected_gradient_descent(model,im,epsilon, 0.01,iterations, np.inf))\n",
    "    if attack == \"cw\":\n",
    "        x_adv_list.append(carlini_wagner_l2(model,im,1))\n",
    "    if attack == \"hsj\":\n",
    "        x_adv_list.append(hop_skip_jump_attack(model,im,1))\n",
    "    if attack == \"sL1\":\n",
    "        x_adv_list.append(sparse_l1_descent(model,im,epsilon))\n",
    "    if attack == \"spsa\":\n",
    "        x_adv_list.append(spsa(model,im,epsilon,iterations,np.inf))\n",
    "    if attack == \"bim\":\n",
    "        x0 = torch.clone(im)\n",
    "        for j in range(iterations):\n",
    "            x0 = fast_gradient_method(model,x0, epsilon, np.inf)\n",
    "        x_adv_list.append(x0)\n",
    "    \n",
    "    \n",
    "    noise_list.append(x_adv_list[i]-im)\n",
    "    \n",
    "    writer.add_image(\"Images_\"+attack+\"/x_adv_\"+str(epsilon),x_adv_list[i][0],i)\n",
    "    writer.add_image(\"Images/x_orig\",im[0],i)\n",
    "    writer.add_image(\"Images_\"+attack+\"/noise_\"+str(epsilon),x_adv_list[i][0]-im[0],i)\n",
    "\n"
   ]
  },
  {
   "cell_type": "code",
   "execution_count": null,
   "id": "a98c5473",
   "metadata": {},
   "outputs": [],
   "source": [
    "from eval_funct import *"
   ]
  },
  {
   "cell_type": "code",
   "execution_count": null,
   "id": "c095c603",
   "metadata": {},
   "outputs": [],
   "source": [
    "SRCC,KRCC,PLCC,RMSE,fr = evaluate(val_dl,model,normalize_imagenet, None ,None)"
   ]
  },
  {
   "cell_type": "code",
   "execution_count": null,
   "id": "1822efa7",
   "metadata": {},
   "outputs": [],
   "source": [
    "print(\"SRCC: \",SRCC)\n",
    "print(\"PLCC: \",PLCC)\n",
    "print(\"KRCC: \",KRCC)\n",
    "print(\"RMSE: \",RMSE)"
   ]
  },
  {
   "cell_type": "code",
   "execution_count": null,
   "id": "9728dbbc",
   "metadata": {},
   "outputs": [],
   "source": [
    "SRCC,KRCC,PLCC,RMSE,fr = evaluate(val_dl,model,normalize_imagenet,noise_list,None)"
   ]
  },
  {
   "cell_type": "code",
   "execution_count": null,
   "id": "9defb4bf",
   "metadata": {},
   "outputs": [],
   "source": [
    "print(\"SRCC: \",SRCC)\n",
    "print(\"PLCC: \",PLCC)\n",
    "print(\"KRCC: \",KRCC)\n",
    "print(\"RMSE: \",RMSE)"
   ]
  },
  {
   "cell_type": "code",
   "execution_count": null,
<<<<<<< HEAD
   "id": "58866224",
=======
   "id": "b7043e85",
>>>>>>> ebdce8ef1760308e9bdb928ac6c8b25b8f2f9a93
   "metadata": {},
   "outputs": [],
   "source": []
  }
 ],
 "metadata": {
  "kernelspec": {
   "display_name": "Python 3 (ipykernel)",
   "language": "python",
   "name": "python3"
  },
  "language_info": {
   "codemirror_mode": {
    "name": "ipython",
    "version": 3
   },
   "file_extension": ".py",
   "mimetype": "text/x-python",
   "name": "python",
   "nbconvert_exporter": "python",
   "pygments_lexer": "ipython3",
   "version": "3.9.13"
  }
 },
 "nbformat": 4,
 "nbformat_minor": 5
}
